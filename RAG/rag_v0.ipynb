{
 "cells": [
  {
   "cell_type": "code",
   "execution_count": 2,
   "id": "8b20b2cf82540e1d",
   "metadata": {
    "ExecuteTime": {
     "end_time": "2025-07-15T12:04:14.833596700Z",
     "start_time": "2025-07-15T12:04:14.827801400Z"
    },
    "collapsed": false
   },
   "outputs": [
    {
     "name": "stderr",
     "output_type": "stream",
     "text": [
      "/root/miniconda3/lib/python3.8/site-packages/sentence_transformers/cross_encoder/CrossEncoder.py:13: TqdmExperimentalWarning: Using `tqdm.autonotebook.tqdm` in notebook mode. Use `tqdm.tqdm` instead to force console mode (e.g. in jupyter console)\n",
      "  from tqdm.autonotebook import tqdm, trange\n",
      "2025-07-15 20:28:54.228250: I tensorflow/core/util/port.cc:110] oneDNN custom operations are on. You may see slightly different numerical results due to floating-point round-off errors from different computation orders. To turn them off, set the environment variable `TF_ENABLE_ONEDNN_OPTS=0`.\n",
      "2025-07-15 20:28:54.282386: I tensorflow/core/platform/cpu_feature_guard.cc:182] This TensorFlow binary is optimized to use available CPU instructions in performance-critical operations.\n",
      "To enable the following instructions: AVX2 AVX512F AVX512_VNNI FMA, in other operations, rebuild TensorFlow with the appropriate compiler flags.\n",
      "2025-07-15 20:28:55.327348: W tensorflow/compiler/tf2tensorrt/utils/py_utils.cc:38] TF-TRT Warning: Could not find TensorRT\n"
     ]
    }
   ],
   "source": [
    "import json\n",
    "from typing import List, Dict, Tuple\n",
    "import numpy as np\n",
    "from rank_bm25 import BM25Okapi\n",
    "from sentence_transformers import SentenceTransformer\n",
    "from sklearn.metrics.pairwise import cosine_similarity\n"
   ]
  },
  {
   "cell_type": "markdown",
   "id": "add5d03bd8cc5525",
   "metadata": {
    "jp-MarkdownHeadingCollapsed": true,
    "tags": []
   },
   "source": [
    "#### 预处理"
   ]
  },
  {
   "cell_type": "markdown",
   "id": "c520da9b-b1d5-477f-bf37-9260d74e0425",
   "metadata": {},
   "source": [
    "将数据集处理成以下json格式\n",
    "\n",
    "```json\n",
    "[\n",
    "  {\n",
    "    'question': '问题',\n",
    "    'answer': '答案'\n",
    "  }\n",
    "]\n",
    "```"
   ]
  },
  {
   "cell_type": "markdown",
   "id": "fc818c7cee086cbc",
   "metadata": {
    "jp-MarkdownHeadingCollapsed": true,
    "tags": []
   },
   "source": [
    "##### 读取全部类别的问答并保存"
   ]
  },
  {
   "cell_type": "code",
   "execution_count": null,
   "id": "e20c19ef8ea85d14",
   "metadata": {
    "collapsed": false
   },
   "outputs": [],
   "source": [
    "data = []\n",
    "with open('QA_source.json', 'r', encoding='utf-8') as f:\n",
    "    for line in f:\n",
    "        line = json.loads(line)\n",
    "        question: str = line['question']\n",
    "        answers: List[str] = line['answer']\n",
    "        while len(answers) > 0:\n",
    "            data.append({\n",
    "                'question': line['question'],\n",
    "                'answer': answers[0]\n",
    "            })\n",
    "            answers.pop(0)\n",
    "\n",
    "with open('QA.json', 'w', encoding='utf-8') as f:\n",
    "    json.dump(data, f, indent=4, ensure_ascii=False)\n",
    "\n",
    "print('done for preparing datasets of all categories')"
   ]
  },
  {
   "cell_type": "markdown",
   "id": "4277c2170140c16b",
   "metadata": {},
   "source": [
    "##### 只保存某类别的问答"
   ]
  },
  {
   "cell_type": "markdown",
   "id": "40f053d2-5dd7-4c1a-934d-99d57bbb5003",
   "metadata": {
    "jp-MarkdownHeadingCollapsed": true
   },
   "source": [
    "###### 类别"
   ]
  },
  {
   "cell_type": "markdown",
   "id": "1d9f7063-05d3-42a0-9c11-cbb70a90b098",
   "metadata": {},
   "source": [
    "```json\n",
    "{'婚姻家庭': 39281, '劳动纠纷': 35011, '交通事故': 22646, '债权债务': 21925, '刑事辩护': 18314, '合同纠纷': 13765, '房产纠纷': 12071, '侵权': 10594, '公司法': 10011, '医疗纠纷': 7285, '拆迁安置': 7022, '行政诉讼': 2776, '建设工程': 1610, '知识产权': 530, '综合咨询': 176, '人身损害': 98, '涉外法律': 69, '海事海商': 46, '消费权益': 27, '抵押担保': 26, '电信通讯': 18, '土地纠纷': 16, '离婚': 16, '工伤赔偿': 15, '继承': 13, '保险理赔': 12, '银行': 12, '网络法律': 9, '求学教育': 8, '税务': 6, '取保候审': 6, '行政复议': 5, '倾销补贴': 3, '毒品犯罪': 3, '公安国安': 3, '调解谈判': 3, '经销代理': 3, '合伙联营': 3, '股权纠纷': 2, '招商引资': 2, '票据': 2, '行政': 2, '资产拍卖': 2, '旅游': 2, '期货交易': 1, '水利电力': 1, '法律文书代写': 1, '工商查询': 1, '兼并收购': 1, '海关商检': 1, '金融证券': 1, '污染损害': 1, '广告宣传': 1, '刑事自诉': 1}\n",
    "```"
   ]
  },
  {
   "cell_type": "markdown",
   "id": "6a0245b7-6b49-4922-96f6-81cff771be8a",
   "metadata": {},
   "source": [
    "###### 处理"
   ]
  },
  {
   "cell_type": "code",
   "execution_count": 12,
   "id": "e2f0d4a42b31ed36",
   "metadata": {
    "ExecuteTime": {
     "end_time": "2025-07-15T12:13:58.050059800Z",
     "start_time": "2025-07-15T12:13:56.996898800Z"
    },
    "collapsed": false
   },
   "outputs": [
    {
     "name": "stdout",
     "output_type": "stream",
     "text": [
      "done for preparing datasets of 公司法 categories\n"
     ]
    }
   ],
   "source": [
    "data = []\n",
    "category = '公司法'\n",
    "\n",
    "with open('QA_source.json', 'r', encoding='utf-8') as f:\n",
    "    for line in f:\n",
    "        line = json.loads(line)\n",
    "        if line['category'] != category:\n",
    "            continue\n",
    "\n",
    "        question: str = line['question']\n",
    "        answers: List[str] = line['answers']\n",
    "        while len(answers) > 0:\n",
    "            data.append({\n",
    "                'question': question.strip(),\n",
    "                'answer': answers[0].strip()\n",
    "            })\n",
    "            answers.pop(0)\n",
    "\n",
    "with open(f'QA_{category}.json', 'w', encoding='utf-8') as f:\n",
    "    json.dump(data, f, indent=4, ensure_ascii=False)\n",
    "\n",
    "print(f'done for preparing datasets of {category} categories')"
   ]
  },
  {
   "cell_type": "markdown",
   "id": "4bd4457ba6a6a468",
   "metadata": {},
   "source": [
    "#### 实现一个中文检索器\n",
    "\n",
    "该检索器包含：\n",
    "1. sparse_retrieve: BM25稀疏检索\n",
    "2. dense_retrieve: BERT稠密检索\n",
    "3. hybrid_retrieve: 混合检索"
   ]
  },
  {
   "cell_type": "markdown",
   "id": "fcd0840a-3481-4014-a07c-99b53766cc85",
   "metadata": {},
   "source": [
    "一般的 Retriever 流程如下：\n",
    "\n",
    "1. 文本预处理: 分词(英文-空格，中文-单个字符)，清洗(去噪-HTML标签/特殊字符)\n",
    "2. 文本嵌入: 将文本转换为固定维度的向量\n",
    "3. 检索算法:\n",
    "   - 倒排索引(如 BM25)\n",
    "   - 向量检索(如 向量数据库FAISS/Milvus, cos-sim)\n",
    "   - 混合检索(结合向量检索和倒排索引, 初筛+精筛/综合得分)\n",
    "4. 结果重排序\n",
    "   - **相似度**：向量相似度\n",
    "   - **模型**：排序模型（如 BERT-based ranking model）对候选文档进行排序\n",
    "   - **混合排序**：多种排序方法 (如先按向量相似度排序，再按关键词匹配度排序)"
   ]
  },
  {
   "cell_type": "code",
   "execution_count": 3,
   "id": "6fc9707eae6c5fad",
   "metadata": {
    "collapsed": false
   },
   "outputs": [],
   "source": [
    "class ChineseRetriever:\n",
    "    def __init__(self,\n",
    "                 json_path: str,\n",
    "                 model_name: str = 'bert-base-chinese'\n",
    "                 ):\n",
    "        \"\"\"\n",
    "        初始化中文检索器\n",
    "        :param json_path: JSON文件路径，格式为[{'question':'', 'answer':''}, ...]\n",
    "        :param model_name: 稠密检索模型名称 or 路径(默认bert-base-chinese)\n",
    "        \"\"\"\n",
    "        self.docs = self._load_json_docs(json_path)\n",
    "        self.questions = [doc['question'] for doc in self.docs]\n",
    "        self.answers = [doc['answer'] for doc in self.docs]\n",
    "\n",
    "        # 初始化稀疏检索(BM25)\n",
    "        self.bm25 = self._init_sparse_retriever()\n",
    "\n",
    "        # 初始化稠密检索(BERT)\n",
    "        self.encoder = SentenceTransformer(model_name)\n",
    "        self.doc_embeddings = self._init_dense_retriever()\n",
    "\n",
    "    def _load_json_docs(self, path: str) -> List[Dict]:\n",
    "        \"\"\"加载并预处理JSON文档\"\"\"\n",
    "        with open(path, 'r', encoding='utf-8') as f:\n",
    "            docs = json.load(f)\n",
    "\n",
    "        # 中文分词处理(简单按字符分割)\n",
    "        for doc in docs:\n",
    "            # 后续可使用jieba分词\n",
    "            doc['tokenized'] = list(doc['question'])  # 按字符级分词, 即一个中文字为一个token\n",
    "        return docs\n",
    "\n",
    "    def _init_sparse_retriever(self):\n",
    "        \"\"\"初始化BM25稀疏检索器\"\"\"\n",
    "        tokenized_corpus = [doc['tokenized'] for doc in self.docs]\n",
    "        return BM25Okapi(tokenized_corpus)\n",
    "\n",
    "    def _init_dense_retriever(self) -> np.ndarray:\n",
    "        \"\"\"预计算所有文档的BERT嵌入\"\"\"\n",
    "        return self.encoder.encode(self.questions)\n",
    "\n",
    "    def sparse_retrieve(self, query: str, top_k: int = 5) -> List[Tuple[int, float]]:\n",
    "        \"\"\"\n",
    "        BM25稀疏检索\n",
    "        :return: 返回(top_k个(文档索引, 得分))列表，如[(3, 8.21), (1, 6.54)...]，按得分降序排序\n",
    "        :param query: 原始查询字符串\n",
    "        :process: \n",
    "            1. 先将中文字符串转换为字符列表 (即进行文本分割), BM25基于词频统计，中文无空格因此需主动分词，目前仅使用字符级分词，后续可尝试分词工具，如 jieba\n",
    "            2. 再计算BM25得分\n",
    "            3. 最后返回前k个文档\n",
    "        \"\"\"\n",
    "        tokenized_query = list(query)  # 中文按字符分词\n",
    "        # BM25计算公式\n",
    "        scores = self.bm25.get_scores(tokenized_query)\n",
    "        # 前k个文档的编号\n",
    "        top_indices = np.argsort(scores)[-top_k:][::-1]\n",
    "        return [(i, scores[i]) for i in top_indices]\n",
    "\n",
    "    def dense_retrieve(self, query: str, top_k: int = 5) -> List[Tuple[int, float]]:\n",
    "        \"\"\"\n",
    "        BERT稠密检索\n",
    "        :return: 返回(top_k个(文档索引, 余弦相似度))列表\n",
    "        :param query: 原始查询字符串\n",
    "        :process: \n",
    "            1. 分词器将文本转换为子词单元\n",
    "            2. 添加[CLS]/[SEP]等特殊标记\n",
    "            3. 通过12层Transformer获取[CLS]位置的768维向量\n",
    "        \"\"\"\n",
    "        # 编码\n",
    "        query_embedding = self.encoder.encode(query)\n",
    "        # 余弦相似度\n",
    "        similarities = cosine_similarity(\n",
    "            [query_embedding],\n",
    "            self.doc_embeddings\n",
    "        )[0]\n",
    "        top_indices = np.argsort(similarities)[-top_k:][::-1]\n",
    "        return [(i, similarities[i]) for i in top_indices]\n",
    "\n",
    "    def hybrid_retrieve(self, query: str, top_k: int = 5,\n",
    "                        dense_weight: float = 0.7) -> List[Tuple[int, float]]:\n",
    "        \"\"\"\n",
    "        混合检索(默认稠密权重0.7，稀疏权重0.3)\n",
    "        :param dense_weight: 稠密检索得分权重\n",
    "        :return: 返回(top_k个(文档索引, 综合得分))列表\n",
    "        \"\"\"\n",
    "        # 各自检索2倍于最终需要的文档量，扩大候选池\n",
    "        sparse_results = dict(self.sparse_retrieve(query, top_k * 2))\n",
    "        dense_results = dict(self.dense_retrieve(query, top_k * 2))\n",
    "\n",
    "        # 归一化得分\n",
    "        # BM25得分范围[0, +∞]\n",
    "        max_sparse = max(sparse_results.values()) if sparse_results else 1\n",
    "        # 余弦相似度[-1, 1]\n",
    "        max_dense = max(dense_results.values()) if dense_results else 1\n",
    "\n",
    "        # 融合得分\n",
    "        fused_scores = {}\n",
    "        all_indices = set(sparse_results.keys()) | set(dense_results.keys())\n",
    "        for idx in all_indices:\n",
    "            norm_sparse = sparse_results.get(idx, 0) / max_sparse\n",
    "            norm_dense = dense_results.get(idx, 0) / max_dense\n",
    "            fused_scores[idx] = dense_weight * norm_dense + (1 - dense_weight) * norm_sparse\n",
    "\n",
    "        # 返回top_k结果\n",
    "        top_indices = sorted(fused_scores.items(), key=lambda x: x[1], reverse=True)[:top_k]\n",
    "        return top_indices\n",
    "\n",
    "    def get_document(self, index: int) -> Dict:\n",
    "        \"\"\"根据索引获取完整文档\"\"\"\n",
    "        return self.docs[index]\n",
    "\n",
    "    def print_results(self, results: List[Tuple[int, float]]):\n",
    "        \"\"\"格式化打印检索结果\"\"\"\n",
    "        for rank, (idx, score) in enumerate(results, 1):\n",
    "            doc = self.get_document(idx)\n",
    "            print(f\"Rank {rank} (Score: {score:.4f}):\")\n",
    "            print(f\"Q: {doc['question']}\")\n",
    "            print(f\"A: {doc['answer']}\\n\")\n"
   ]
  },
  {
   "cell_type": "code",
   "execution_count": 9,
   "id": "17df80879e9c07e0",
   "metadata": {
    "collapsed": false
   },
   "outputs": [
    {
     "name": "stderr",
     "output_type": "stream",
     "text": [
      "No sentence-transformers model found with name /root/autodl-tmp/data/models/bert-base-chinese. Creating a new one with mean pooling.\n"
     ]
    }
   ],
   "source": [
    "# 初始化检索器\n",
    "retriever = ChineseRetriever(\"QA_公司法.json\", model_name='/root/autodl-tmp/data/models/bert-base-chinese')"
   ]
  },
  {
   "cell_type": "code",
   "execution_count": 10,
   "id": "a396e228-29cd-4649-93f3-6e8f25d94b11",
   "metadata": {},
   "outputs": [],
   "source": [
    "# 测试查询\n",
    "query = \"注册公司有哪些注意事项\""
   ]
  },
  {
   "cell_type": "code",
   "execution_count": 11,
   "id": "3fef9f42-41d2-494c-bc79-f747938d3abf",
   "metadata": {
    "scrolled": true,
    "tags": []
   },
   "outputs": [
    {
     "name": "stdout",
     "output_type": "stream",
     "text": [
      "========================================\n",
      "稀疏检索结果(BM25):\n",
      "Rank 1 (Score: 35.0303):\n",
      "Q: 您好！请问注册公司需要多长时间。有哪些注意事项\n",
      "A: 6、一般纳税人资格\n",
      "\n",
      "Rank 2 (Score: 35.0303):\n",
      "Q: 您好！请问注册公司需要多长时间。有哪些注意事项\n",
      "A: 企业按组建形式可以分为有限公司、个人独资企业、合伙企业。目前，90%以上的企业类型为有限公司(以注册资本承担对外赔偿限额)，而个人独资企业或合伙企业因投资者承担无限责任而选择这2种企业类型的较少。\n",
      "\n",
      "Rank 3 (Score: 35.0303):\n",
      "Q: 您好！请问注册公司需要多长时间。有哪些注意事项\n",
      "A: 费用由行政收费、银行开户费用、验资费及代理公司服务费构成。但是，各个区及开发区对于公司注册登记费用的补贴政策是不一样的。\n",
      "\n",
      "Rank 4 (Score: 35.0303):\n",
      "Q: 您好！请问注册公司需要多长时间。有哪些注意事项\n",
      "A: 2、要求\n",
      "\n",
      "Rank 5 (Score: 35.0303):\n",
      "Q: 您好！请问注册公司需要多长时间。有哪些注意事项\n",
      "A: 5、进出口权\n"
     ]
    }
   ],
   "source": [
    "print(\"=\" * 40 + \"\\n稀疏检索结果(BM25):\")\n",
    "sparse_results = retriever.sparse_retrieve(query)\n",
    "retriever.print_results(sparse_results)\n"
   ]
  },
  {
   "cell_type": "code",
   "execution_count": 12,
   "id": "4f8efd78-1fb9-42ce-9349-6d33814cfdd3",
   "metadata": {
    "scrolled": true,
    "tags": []
   },
   "outputs": [
    {
     "name": "stdout",
     "output_type": "stream",
     "text": [
      "========================================\n",
      "稠密检索结果(BERT):\n",
      "Rank 1 (Score: 0.9319):\n",
      "Q: 您好！请问注册公司需要多长时间。有哪些注意事项\n",
      "A: 5、进出口权\n",
      "\n",
      "Rank 2 (Score: 0.9319):\n",
      "Q: 您好！请问注册公司需要多长时间。有哪些注意事项\n",
      "A: 按照《公司法》的规定，有限公司最低注册资本为3万元人民币，其中，一人有限公司最低注册资本为10万元人民币。注册资本可以分期出资，首批不低于20%，其余注册资本可在2年内到位。但是，不同对于最低注册资本的要求是不一样的。例如，国际货运代理公司要求最低注册资本为500元人民币。需注意的是，任何公司在设立登记时，除了要符合公司法对注册资本的要求，也要符合行业法规对最低注册资本的规定。在还需符合外资企业法律法规对于注册资本的要求\n",
      "\n",
      "Rank 3 (Score: 0.9319):\n",
      "Q: 您好！请问注册公司需要多长时间。有哪些注意事项\n",
      "A: 首先，办理公司注册登记，需特别注意的是在公司经营范围中需加上“从事货物及技术的进出口业务”这一条。有了这条经营范围就才能申请进出口备案。从事进出口业务的也写清楚具体的业务范围。其次，在公司注册完毕及银行开户之后，申请进出口备案。进出口备案包括海关、电子口岸、外汇、检验检疫等备案手续。\n",
      "\n",
      "Rank 4 (Score: 0.9319):\n",
      "Q: 您好！请问注册公司需要多长时间。有哪些注意事项\n",
      "A: 对于贸易公司或进出口公司来说，基本上都要申请一般纳税人资格(开具增值税专用发票)。各个区或同一个区的不同税务所对于企业申请一般纳税人资格的要求或规定是有些差异的\n",
      "\n",
      "Rank 5 (Score: 0.9319):\n",
      "Q: 您好！请问注册公司需要多长时间。有哪些注意事项\n",
      "A: 2、要求\n"
     ]
    }
   ],
   "source": [
    "print(\"=\" * 40 + \"\\n稠密检索结果(BERT):\")\n",
    "dense_results = retriever.dense_retrieve(query)\n",
    "retriever.print_results(dense_results)\n"
   ]
  },
  {
   "cell_type": "code",
   "execution_count": 13,
   "id": "5bedb8b7-5653-4754-bdd8-8079daba30bf",
   "metadata": {
    "scrolled": true,
    "tags": []
   },
   "outputs": [
    {
     "name": "stdout",
     "output_type": "stream",
     "text": [
      "========================================\n",
      "混合检索结果:\n",
      "Rank 1 (Score: 1.0000):\n",
      "Q: 您好！请问注册公司需要多长时间。有哪些注意事项\n",
      "A: 首先，办理公司注册登记，需特别注意的是在公司经营范围中需加上“从事货物及技术的进出口业务”这一条。有了这条经营范围就才能申请进出口备案。从事进出口业务的也写清楚具体的业务范围。其次，在公司注册完毕及银行开户之后，申请进出口备案。进出口备案包括海关、电子口岸、外汇、检验检疫等备案手续。\n",
      "\n",
      "Rank 2 (Score: 1.0000):\n",
      "Q: 您好！请问注册公司需要多长时间。有哪些注意事项\n",
      "A: 5、进出口权\n",
      "\n",
      "Rank 3 (Score: 1.0000):\n",
      "Q: 您好！请问注册公司需要多长时间。有哪些注意事项\n",
      "A: 6、一般纳税人资格\n",
      "\n",
      "Rank 4 (Score: 1.0000):\n",
      "Q: 您好！请问注册公司需要多长时间。有哪些注意事项\n",
      "A: 按照《公司法》的规定，有限公司最低注册资本为3万元人民币，其中，一人有限公司最低注册资本为10万元人民币。注册资本可以分期出资，首批不低于20%，其余注册资本可在2年内到位。但是，不同对于最低注册资本的要求是不一样的。例如，国际货运代理公司要求最低注册资本为500元人民币。需注意的是，任何公司在设立登记时，除了要符合公司法对注册资本的要求，也要符合行业法规对最低注册资本的规定。在还需符合外资企业法律法规对于注册资本的要求\n",
      "\n",
      "Rank 5 (Score: 1.0000):\n",
      "Q: 您好！请问注册公司需要多长时间。有哪些注意事项\n",
      "A: 4、特殊项目审批\n"
     ]
    }
   ],
   "source": [
    "print(\"=\" * 40 + \"\\n混合检索结果:\")\n",
    "hybrid_results = retriever.hybrid_retrieve(query)\n",
    "retriever.print_results(hybrid_results)\n"
   ]
  }
 ],
 "metadata": {
  "kernelspec": {
   "display_name": "Python 3 (ipykernel)",
   "language": "python",
   "name": "python3"
  },
  "language_info": {
   "codemirror_mode": {
    "name": "ipython",
    "version": 3
   },
   "file_extension": ".py",
   "mimetype": "text/x-python",
   "name": "python",
   "nbconvert_exporter": "python",
   "pygments_lexer": "ipython3",
   "version": "3.8.10"
  }
 },
 "nbformat": 4,
 "nbformat_minor": 5
}
