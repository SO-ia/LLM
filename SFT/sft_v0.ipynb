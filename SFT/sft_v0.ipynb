{
 "cells": [
  {
   "cell_type": "markdown",
   "id": "248281a9f8c1783c",
   "metadata": {
    "collapsed": false,
    "jp-MarkdownHeadingCollapsed": true,
    "jupyter": {
     "outputs_hidden": false
    }
   },
   "source": [
    "### 说明"
   ]
  },
  {
   "cell_type": "markdown",
   "id": "957442f25e14a15b",
   "metadata": {
    "collapsed": false,
    "jupyter": {
     "outputs_hidden": false
    }
   },
   "source": [
    "本实验测试微量数据 (训练测试都使用同样的 100 条数据) 的微调效果"
   ]
  },
  {
   "cell_type": "markdown",
   "id": "c33770b584f58246",
   "metadata": {
    "collapsed": false,
    "jp-MarkdownHeadingCollapsed": true,
    "jupyter": {
     "outputs_hidden": false
    }
   },
   "source": [
    "### 数据预处理"
   ]
  },
  {
   "cell_type": "code",
   "execution_count": 1,
   "id": "514a5c2cd48004b8",
   "metadata": {
    "ExecuteTime": {
     "end_time": "2025-07-17T14:12:57.216639100Z",
     "start_time": "2025-07-17T14:12:55.913843500Z"
    },
    "collapsed": true,
    "jupyter": {
     "outputs_hidden": true,
     "source_hidden": true
    }
   },
   "outputs": [],
   "source": [
    "import json\n",
    "from collections import Counter\n",
    "import random\n",
    "from typing import List, Dict\n",
    "\n",
    "import pandas as pd\n",
    "from sklearn.metrics import classification_report\n",
    "from xinference.client import Client\n",
    "import concurrent.futures\n"
   ]
  },
  {
   "cell_type": "markdown",
   "id": "be78b429-3834-4364-b2ef-b3b5428e5681",
   "metadata": {
    "jp-MarkdownHeadingCollapsed": true
   },
   "source": [
    "#### 处理成需要的数据集并保存"
   ]
  },
  {
   "cell_type": "markdown",
   "id": "2c8fea58-dd4f-43d9-a3ce-84f9f6e6618a",
   "metadata": {},
   "source": [
    "以下可跳过"
   ]
  },
  {
   "cell_type": "markdown",
   "id": "e87da3d34d814cdf",
   "metadata": {
    "collapsed": false,
    "jupyter": {
     "outputs_hidden": false
    }
   },
   "source": [
    "数据集具体信息见 ./RAG/rag_v0.ipynb"
   ]
  },
  {
   "cell_type": "code",
   "execution_count": 3,
   "id": "bd4928a970b3bef0",
   "metadata": {
    "ExecuteTime": {
     "end_time": "2025-07-17T13:01:16.538037700Z",
     "start_time": "2025-07-17T13:01:15.229943800Z"
    },
    "collapsed": true,
    "jupyter": {
     "outputs_hidden": true,
     "source_hidden": true
    }
   },
   "outputs": [],
   "source": [
    "with open('../datasets/QA_source.json', 'r', encoding='utf-8') as f:\n",
    "    data = [json.loads(line) for line in f]"
   ]
  },
  {
   "cell_type": "code",
   "execution_count": 6,
   "id": "initial_id",
   "metadata": {
    "ExecuteTime": {
     "end_time": "2025-07-17T12:49:54.194592200Z",
     "start_time": "2025-07-17T12:49:54.081708300Z"
    },
    "collapsed": true,
    "jupyter": {
     "outputs_hidden": true,
     "source_hidden": true
    }
   },
   "outputs": [],
   "source": [
    "# 筛选样本数大于50的类别\n",
    "categories = {\n",
    "    category for category, count in Counter(item['category'] for item in data).items()\n",
    "    if count > 50\n",
    "}\n",
    "# 随机抽取6个不同的键作为接下来的标签\n",
    "categories = random.sample(list(categories), 6)\n",
    "\n",
    "# 随机指定每个类别的个数, sum = 100\n",
    "cnts = [34, 21, 14, 10, 8, 13]\n",
    "\n",
    "selected: Dict = {}\n",
    "# 收集每个类别的所有问题\n",
    "category_questions = {}\n",
    "for item in data:\n",
    "    if item['category'] in categories:\n",
    "        category_questions.setdefault(item['category'], []).append(item['question'])\n",
    "\n",
    "# 从每个类别中随机抽取指定数量的样本\n",
    "result = []\n",
    "for category, count in zip(categories, cnts):\n",
    "    questions = random.sample(category_questions[category], count)\n",
    "    result.extend({'question': q, 'category': category} for q in questions)\n",
    "\n",
    "with open('datasets.json', 'w', encoding='utf-8') as f:\n",
    "    json.dump(result, f, indent=4, ensure_ascii=False)"
   ]
  },
  {
   "cell_type": "markdown",
   "id": "edd4e202-d9e6-480d-a63b-8800efe583ea",
   "metadata": {
    "jp-MarkdownHeadingCollapsed": true
   },
   "source": [
    "#### 读取数据"
   ]
  },
  {
   "cell_type": "markdown",
   "id": "2fe6210eb0285fb9",
   "metadata": {
    "collapsed": false,
    "jupyter": {
     "outputs_hidden": false
    }
   },
   "source": [
    "取出数据"
   ]
  },
  {
   "cell_type": "code",
   "execution_count": 2,
   "id": "84446b6cf2def40",
   "metadata": {
    "ExecuteTime": {
     "end_time": "2025-07-17T14:13:02.149167400Z",
     "start_time": "2025-07-17T14:13:02.141272800Z"
    },
    "collapsed": true,
    "jupyter": {
     "outputs_hidden": true,
     "source_hidden": true
    }
   },
   "outputs": [],
   "source": [
    "with open('datasets.json', 'r', encoding='utf-8') as f:\n",
    "    data = json.load(f)"
   ]
  },
  {
   "cell_type": "code",
   "execution_count": 3,
   "id": "e4610223a56f3484",
   "metadata": {
    "ExecuteTime": {
     "end_time": "2025-07-17T14:13:03.673666800Z",
     "start_time": "2025-07-17T14:13:03.668861700Z"
    },
    "collapsed": true,
    "jupyter": {
     "outputs_hidden": true,
     "source_hidden": true
    }
   },
   "outputs": [],
   "source": [
    "counter = Counter(item['category'] for item in data)"
   ]
  },
  {
   "cell_type": "code",
   "execution_count": 4,
   "id": "4c0511cbd3af20c8",
   "metadata": {
    "ExecuteTime": {
     "end_time": "2025-07-17T14:13:06.456231800Z",
     "start_time": "2025-07-17T14:13:06.448585900Z"
    },
    "collapsed": true,
    "jupyter": {
     "outputs_hidden": true,
     "source_hidden": true
    }
   },
   "outputs": [
    {
     "data": {
      "text/plain": [
       "Counter({'债权债务': 34, '建设工程': 21, '婚姻家庭': 14, '劳动纠纷': 13, '公司法': 10, '合同纠纷': 8})"
      ]
     },
     "execution_count": 4,
     "metadata": {},
     "output_type": "execute_result"
    }
   ],
   "source": [
    "counter"
   ]
  },
  {
   "cell_type": "code",
   "execution_count": 5,
   "id": "1be5f8be5df73955",
   "metadata": {
    "ExecuteTime": {
     "end_time": "2025-07-17T14:16:49.044414100Z",
     "start_time": "2025-07-17T14:16:49.005332700Z"
    },
    "collapsed": true,
    "jupyter": {
     "outputs_hidden": true,
     "source_hidden": true
    }
   },
   "outputs": [
    {
     "data": {
      "text/plain": [
       "dict_keys(['债权债务', '建设工程', '婚姻家庭', '公司法', '合同纠纷', '劳动纠纷'])"
      ]
     },
     "execution_count": 5,
     "metadata": {},
     "output_type": "execute_result"
    }
   ],
   "source": [
    "counter.keys()"
   ]
  },
  {
   "cell_type": "markdown",
   "id": "6c5f33a17236ba2b",
   "metadata": {
    "collapsed": false,
    "jp-MarkdownHeadingCollapsed": true,
    "jupyter": {
     "outputs_hidden": false
    }
   },
   "source": [
    "### 测试"
   ]
  },
  {
   "cell_type": "markdown",
   "id": "2cdd7b33-4b49-451c-b17f-c6540982d3a7",
   "metadata": {
    "jp-MarkdownHeadingCollapsed": true
   },
   "source": [
    "#### xinference 运行命令"
   ]
  },
  {
   "cell_type": "markdown",
   "id": "d127c2ea-55f8-430c-85d9-b9edee377dd9",
   "metadata": {},
   "source": [
    "```powershell\n",
    "# 启动 xinference\n",
    "xinference-local --host 0.0.0.0 --port 9997\n",
    "# 列出所有 Xinference 支持的指定类型的模型：\n",
    "xinference registrations -t LLM\n",
    "# 列出所有在运行的模型：\n",
    "xinference list\n",
    "# 停止某个正在运行的模型：\n",
    "xinference terminate --model-uid \"DeepSeek-R1-Distill-Qwen-1.5B\"\n",
    "```"
   ]
  },
  {
   "cell_type": "markdown",
   "id": "f8b59064-4766-45ec-9a57-d8c165fe4c8b",
   "metadata": {
    "jp-MarkdownHeadingCollapsed": true
   },
   "source": [
    "#### 实测"
   ]
  },
  {
   "cell_type": "markdown",
   "id": "f0a02791f2ebc8e1",
   "metadata": {
    "collapsed": false,
    "jupyter": {
     "outputs_hidden": false
    }
   },
   "source": [
    "用提示词测试原生法律问题判断的能力"
   ]
  },
  {
   "cell_type": "code",
   "execution_count": 6,
   "id": "a4260c80f76ead55",
   "metadata": {
    "ExecuteTime": {
     "end_time": "2025-07-17T14:13:10.428908100Z",
     "start_time": "2025-07-17T14:13:10.423483400Z"
    },
    "collapsed": true,
    "jupyter": {
     "outputs_hidden": true,
     "source_hidden": true
    }
   },
   "outputs": [],
   "source": [
    "prompt = \"\"\"你是一位法律咨询专家，能够根据用户提问直接判断用户的咨询类别。\n",
    "咨询类别为: '债权债务': 0, '建设工程': 1, '婚姻家庭': 2, '公司法': 3, '合同纠纷': 4, '劳动纠纷': 5\n",
    "输出要求:你只需要输出对应类别的数字\n",
    "示例:\n",
    "用户输入: {}\n",
    "规范输出: \n",
    "\"\"\""
   ]
  },
  {
   "cell_type": "code",
   "execution_count": 7,
   "id": "9490eec5-991f-44c1-aa85-25060ef3ada8",
   "metadata": {
    "collapsed": true,
    "jupyter": {
     "outputs_hidden": true,
     "source_hidden": true
    }
   },
   "outputs": [],
   "source": [
    "client = Client('http://localhost:9997')\n",
    "# model = client.get_model(model_uid=\"DeepSeek-R1-Distill-Qwen-1.5B\")\n",
    "# 原始模型\n",
    "model = client.get_model(model_uid=\"qwen2.5-1.5b-instruct\")"
   ]
  },
  {
   "cell_type": "markdown",
   "id": "2e17acd9-0b95-45de-8eba-82f2e4ac5226",
   "metadata": {
    "jp-MarkdownHeadingCollapsed": true
   },
   "source": [
    "#### 单线程"
   ]
  },
  {
   "cell_type": "code",
   "execution_count": 12,
   "id": "4f12fd505235523b",
   "metadata": {
    "ExecuteTime": {
     "end_time": "2025-07-17T14:14:11.181058300Z",
     "start_time": "2025-07-17T14:13:27.766835700Z"
    },
    "collapsed": true,
    "jupyter": {
     "outputs_hidden": true,
     "source_hidden": true
    },
    "scrolled": true
   },
   "outputs": [
    {
     "name": "stdout",
     "output_type": "stream",
     "text": [
      "2\n",
      "4\n",
      "0\n",
      "4\n",
      "0\n"
     ]
    }
   ],
   "source": [
    "result = []\n",
    "for q in data[:5]:\n",
    "    completion = model.chat(\n",
    "        messages=[{\n",
    "            'role': 'user',\n",
    "            'content': prompt.format(q['question'])\n",
    "        }],\n",
    "        generate_config={\"temperature\": 0.0, \"max_tokens\": 512}\n",
    "    )\n",
    "\n",
    "    answer = completion[\"choices\"][0][\"message\"][\"content\"]\n",
    "    # 有思考过程的需要做截断\n",
    "    filtered = answer.split(\"</think>\")[-1].strip()\n",
    "    result.append(filtered)\n",
    "    print(filtered)"
   ]
  },
  {
   "cell_type": "markdown",
   "id": "ab47279e-a641-49c6-81d1-9f9aa4e23034",
   "metadata": {
    "jp-MarkdownHeadingCollapsed": true
   },
   "source": [
    "#### 多线程"
   ]
  },
  {
   "cell_type": "code",
   "execution_count": 8,
   "id": "8769029e-0f02-487f-803f-a926a0bd9746",
   "metadata": {
    "collapsed": true,
    "jupyter": {
     "outputs_hidden": true,
     "source_hidden": true
    }
   },
   "outputs": [],
   "source": [
    "# 多线程处理函数\n",
    "def process_question(q):\n",
    "    completion = model.chat(\n",
    "        messages=[{\n",
    "            'role': 'user',\n",
    "            'content': prompt.format(q['question'])\n",
    "        }],\n",
    "        generate_config={\"temperature\": 0.0, \"max_tokens\": 2048}\n",
    "    )\n",
    "    answer = completion[\"choices\"][0][\"message\"][\"content\"]\n",
    "    return answer\n"
   ]
  },
  {
   "cell_type": "code",
   "execution_count": 9,
   "id": "bc775886-ab9a-4175-a9ae-f9d7cb53e19c",
   "metadata": {
    "collapsed": true,
    "jupyter": {
     "outputs_hidden": true,
     "source_hidden": true
    },
    "scrolled": true
   },
   "outputs": [
    {
     "name": "stdout",
     "output_type": "stream",
     "text": [
      "0\n",
      "0\n",
      "1\n",
      "0\n",
      "0\n",
      "0\n",
      "0\n",
      "0\n",
      "0\n",
      "0\n",
      "4\n",
      "0\n",
      "0\n",
      "0\n",
      "0\n",
      "0\n",
      "0\n",
      "0\n",
      "3\n",
      "0\n",
      "0\n",
      "0\n",
      "0\n",
      "1\n",
      "1\n",
      "0\n",
      "0\n",
      "0\n",
      "1\n",
      "0\n",
      "0\n",
      "0\n",
      "2\n",
      "0\n",
      "0\n",
      "0\n",
      "5\n",
      "0\n",
      "0\n",
      "1\n",
      "0\n",
      "1\n",
      "1\n",
      "2\n",
      "1\n",
      "0\n",
      "5\n",
      "1\n",
      "1\n",
      "2\n",
      "1\n",
      "2\n",
      "0\n",
      "1\n",
      "0\n",
      "0\n",
      "1\n",
      "2\n",
      "0\n",
      "1\n",
      "2\n",
      "2\n",
      "2\n",
      "1\n",
      "2\n",
      "0\n",
      "0\n",
      "4\n",
      "0\n",
      "0\n",
      "1\n",
      "0\n",
      "0\n",
      "0\n",
      "2\n",
      "2\n",
      "2\n",
      "0\n",
      "2\n",
      "2\n",
      "0\n",
      "5\n",
      "4\n",
      "0\n",
      "0\n",
      "0\n",
      "1\n",
      "4\n",
      "2\n",
      "5\n",
      "2\n",
      "1\n",
      "0\n",
      "1\n",
      "0\n",
      "2\n",
      "0\n",
      "0\n",
      "0\n",
      "2\n"
     ]
    }
   ],
   "source": [
    "result = []\n",
    "# 使用 ThreadPoolExecutor 来并发处理\n",
    "with concurrent.futures.ThreadPoolExecutor(max_workers=20) as executor:\n",
    "    futures = [executor.submit(process_question, q) for q in data]\n",
    "    for future in concurrent.futures.as_completed(futures):\n",
    "        answer = future.result()\n",
    "        filtered = answer.split(\"</think>\")[-1].strip()\n",
    "        result.append(filtered)\n",
    "        print(filtered)"
   ]
  },
  {
   "cell_type": "markdown",
   "id": "4570a8d1-ddf7-4ea8-ad3f-002db2a47bd3",
   "metadata": {
    "jp-MarkdownHeadingCollapsed": true
   },
   "source": [
    "#### 获得结果"
   ]
  },
  {
   "cell_type": "markdown",
   "id": "a9f10d8f00cb33b5",
   "metadata": {
    "collapsed": false,
    "jupyter": {
     "outputs_hidden": false
    }
   },
   "source": [
    "将参考标签转化为数值"
   ]
  },
  {
   "cell_type": "code",
   "execution_count": 10,
   "id": "520fb41e2b1d6b66",
   "metadata": {
    "ExecuteTime": {
     "end_time": "2025-07-17T14:20:00.955698400Z",
     "start_time": "2025-07-17T14:20:00.924747200Z"
    },
    "collapsed": true,
    "jupyter": {
     "outputs_hidden": true,
     "source_hidden": true
    }
   },
   "outputs": [],
   "source": [
    "label2idx = {'债权债务': 0, '建设工程': 1, '婚姻家庭': 2, '公司法': 3, '合同纠纷': 4, '劳动纠纷': 5}\n",
    "references = [label2idx[i['category']] for i in data]"
   ]
  },
  {
   "cell_type": "code",
   "execution_count": 11,
   "id": "a3be68898985e499",
   "metadata": {
    "ExecuteTime": {
     "end_time": "2025-07-17T14:20:03.946997800Z",
     "start_time": "2025-07-17T14:20:03.915017600Z"
    },
    "collapsed": true,
    "jupyter": {
     "outputs_hidden": true,
     "source_hidden": true
    },
    "scrolled": true
   },
   "outputs": [
    {
     "data": {
      "text/plain": [
       "[0,\n",
       " 0,\n",
       " 0,\n",
       " 0,\n",
       " 0,\n",
       " 0,\n",
       " 0,\n",
       " 0,\n",
       " 0,\n",
       " 0,\n",
       " 0,\n",
       " 0,\n",
       " 0,\n",
       " 0,\n",
       " 0,\n",
       " 0,\n",
       " 0,\n",
       " 0,\n",
       " 0,\n",
       " 0,\n",
       " 0,\n",
       " 0,\n",
       " 0,\n",
       " 0,\n",
       " 0,\n",
       " 0,\n",
       " 0,\n",
       " 0,\n",
       " 0,\n",
       " 0,\n",
       " 0,\n",
       " 0,\n",
       " 0,\n",
       " 0,\n",
       " 1,\n",
       " 1,\n",
       " 1,\n",
       " 1,\n",
       " 1,\n",
       " 1,\n",
       " 1,\n",
       " 1,\n",
       " 1,\n",
       " 1,\n",
       " 1,\n",
       " 1,\n",
       " 1,\n",
       " 1,\n",
       " 1,\n",
       " 1,\n",
       " 1,\n",
       " 1,\n",
       " 1,\n",
       " 1,\n",
       " 1,\n",
       " 2,\n",
       " 2,\n",
       " 2,\n",
       " 2,\n",
       " 2,\n",
       " 2,\n",
       " 2,\n",
       " 2,\n",
       " 2,\n",
       " 2,\n",
       " 2,\n",
       " 2,\n",
       " 2,\n",
       " 2,\n",
       " 3,\n",
       " 3,\n",
       " 3,\n",
       " 3,\n",
       " 3,\n",
       " 3,\n",
       " 3,\n",
       " 3,\n",
       " 3,\n",
       " 3,\n",
       " 4,\n",
       " 4,\n",
       " 4,\n",
       " 4,\n",
       " 4,\n",
       " 4,\n",
       " 4,\n",
       " 4,\n",
       " 5,\n",
       " 5,\n",
       " 5,\n",
       " 5,\n",
       " 5,\n",
       " 5,\n",
       " 5,\n",
       " 5,\n",
       " 5,\n",
       " 5,\n",
       " 5,\n",
       " 5,\n",
       " 5]"
      ]
     },
     "execution_count": 11,
     "metadata": {},
     "output_type": "execute_result"
    }
   ],
   "source": [
    "references"
   ]
  },
  {
   "cell_type": "markdown",
   "id": "de3e6e7a3eba2a51",
   "metadata": {
    "collapsed": false,
    "jupyter": {
     "outputs_hidden": false
    }
   },
   "source": [
    "将预测标签转化为数值"
   ]
  },
  {
   "cell_type": "code",
   "execution_count": 12,
   "id": "ee38cdff63442f9f",
   "metadata": {
    "ExecuteTime": {
     "end_time": "2025-07-17T14:23:39.442450200Z",
     "start_time": "2025-07-17T14:23:39.401262200Z"
    },
    "collapsed": true,
    "jupyter": {
     "outputs_hidden": true,
     "source_hidden": true
    }
   },
   "outputs": [],
   "source": [
    "# result = [int(i) for i in result]\n",
    "int_result = []\n",
    "for i in result:\n",
    "    # 由于ds有思考过程，可能会出现输出的token过长导致被截断, 所以将产生过长答案的结果设置为 Bad answer 一类\n",
    "    # 也可以在模型配置中将ds的推理部分关闭就不用做截断了\n",
    "    try:\n",
    "        int_result.append(int(i))\n",
    "    except:\n",
    "        print('Bad answer!')\n",
    "        int_result.append(6)\n"
   ]
  },
  {
   "cell_type": "code",
   "execution_count": 13,
   "id": "258cb7a06045d4c8",
   "metadata": {
    "ExecuteTime": {
     "end_time": "2025-07-17T14:23:43.427774800Z",
     "start_time": "2025-07-17T14:23:43.409576200Z"
    },
    "collapsed": true,
    "jupyter": {
     "outputs_hidden": true,
     "source_hidden": true
    },
    "scrolled": true
   },
   "outputs": [
    {
     "data": {
      "text/plain": [
       "[0,\n",
       " 0,\n",
       " 1,\n",
       " 0,\n",
       " 0,\n",
       " 0,\n",
       " 0,\n",
       " 0,\n",
       " 0,\n",
       " 0,\n",
       " 4,\n",
       " 0,\n",
       " 0,\n",
       " 0,\n",
       " 0,\n",
       " 0,\n",
       " 0,\n",
       " 0,\n",
       " 3,\n",
       " 0,\n",
       " 0,\n",
       " 0,\n",
       " 0,\n",
       " 1,\n",
       " 1,\n",
       " 0,\n",
       " 0,\n",
       " 0,\n",
       " 1,\n",
       " 0,\n",
       " 0,\n",
       " 0,\n",
       " 2,\n",
       " 0,\n",
       " 0,\n",
       " 0,\n",
       " 5,\n",
       " 0,\n",
       " 0,\n",
       " 1,\n",
       " 0,\n",
       " 1,\n",
       " 1,\n",
       " 2,\n",
       " 1,\n",
       " 0,\n",
       " 5,\n",
       " 1,\n",
       " 1,\n",
       " 2,\n",
       " 1,\n",
       " 2,\n",
       " 0,\n",
       " 1,\n",
       " 0,\n",
       " 0,\n",
       " 1,\n",
       " 2,\n",
       " 0,\n",
       " 1,\n",
       " 2,\n",
       " 2,\n",
       " 2,\n",
       " 1,\n",
       " 2,\n",
       " 0,\n",
       " 0,\n",
       " 4,\n",
       " 0,\n",
       " 0,\n",
       " 1,\n",
       " 0,\n",
       " 0,\n",
       " 0,\n",
       " 2,\n",
       " 2,\n",
       " 2,\n",
       " 0,\n",
       " 2,\n",
       " 2,\n",
       " 0,\n",
       " 5,\n",
       " 4,\n",
       " 0,\n",
       " 0,\n",
       " 0,\n",
       " 1,\n",
       " 4,\n",
       " 2,\n",
       " 5,\n",
       " 2,\n",
       " 1,\n",
       " 0,\n",
       " 1,\n",
       " 0,\n",
       " 2,\n",
       " 0,\n",
       " 0,\n",
       " 0,\n",
       " 2]"
      ]
     },
     "execution_count": 13,
     "metadata": {},
     "output_type": "execute_result"
    }
   ],
   "source": [
    "int_result"
   ]
  },
  {
   "cell_type": "markdown",
   "id": "1627782f0847bed7",
   "metadata": {
    "collapsed": false,
    "jupyter": {
     "outputs_hidden": false
    }
   },
   "source": [
    "转换为dataframe形式查看当前数据"
   ]
  },
  {
   "cell_type": "code",
   "execution_count": null,
   "id": "642939c3047998ad",
   "metadata": {
    "collapsed": true,
    "jupyter": {
     "outputs_hidden": true,
     "source_hidden": true
    }
   },
   "outputs": [],
   "source": [
    "df = pd.DataFrame()"
   ]
  },
  {
   "cell_type": "markdown",
   "id": "4bc51168710bb28d",
   "metadata": {
    "collapsed": false,
    "jp-MarkdownHeadingCollapsed": true,
    "jupyter": {
     "outputs_hidden": false
    }
   },
   "source": [
    "#### 评估原生结果"
   ]
  },
  {
   "cell_type": "markdown",
   "id": "80e2e0a4-4325-460c-8ad8-16fddd7f8d74",
   "metadata": {
    "jp-MarkdownHeadingCollapsed": true
   },
   "source": [
    "##### ds-distilled"
   ]
  },
  {
   "cell_type": "code",
   "execution_count": 18,
   "id": "2717077d-cd1c-4224-a5ed-70c25edee5e8",
   "metadata": {
    "collapsed": true,
    "jupyter": {
     "outputs_hidden": true,
     "source_hidden": true
    }
   },
   "outputs": [],
   "source": [
    "target_names = ['债权债务', '建设工程', '婚姻家庭', '公司法', '合同纠纷', '劳动纠纷', 'Bad answer']"
   ]
  },
  {
   "cell_type": "code",
   "execution_count": 23,
   "id": "0b3ab416-100d-4950-bf93-9fa5655a773f",
   "metadata": {
    "collapsed": true,
    "jupyter": {
     "outputs_hidden": true,
     "source_hidden": true
    }
   },
   "outputs": [
    {
     "name": "stdout",
     "output_type": "stream",
     "text": [
      "              precision    recall  f1-score   support\n",
      "\n",
      "        债权债务      0.636     0.412     0.500        34\n",
      "        建设工程      0.600     0.143     0.231        21\n",
      "        婚姻家庭      0.364     0.286     0.320        14\n",
      "         公司法      0.143     0.100     0.118        10\n",
      "        合同纠纷      0.079     0.375     0.130         8\n",
      "        劳动纠纷      0.200     0.231     0.214        13\n",
      "  Bad answer      0.000     0.000     0.000         0\n",
      "\n",
      "    accuracy                          0.280       100\n",
      "   macro avg      0.289     0.221     0.216       100\n",
      "weighted avg      0.440     0.280     0.313       100\n",
      "\n"
     ]
    }
   ],
   "source": [
    "print(classification_report(\n",
    "    y_true=references,\n",
    "    y_pred=int_result,\n",
    "    digits=3,\n",
    "    target_names=target_names,\n",
    "    zero_division=0\n",
    "))"
   ]
  },
  {
   "cell_type": "markdown",
   "id": "4efce191-64a1-4e24-b4c4-518d180a4b12",
   "metadata": {
    "jp-MarkdownHeadingCollapsed": true
   },
   "source": [
    "##### qwen2.5-1.5b-instruct"
   ]
  },
  {
   "cell_type": "code",
   "execution_count": 14,
   "id": "5d1fb048-11b1-4728-89b2-0497bcba4011",
   "metadata": {
    "collapsed": true,
    "jupyter": {
     "outputs_hidden": true,
     "source_hidden": true
    }
   },
   "outputs": [],
   "source": [
    "target_names = ['债权债务', '建设工程', '婚姻家庭', '公司法', '合同纠纷', '劳动纠纷']"
   ]
  },
  {
   "cell_type": "code",
   "execution_count": 15,
   "id": "67123e24-080f-4d08-a838-45a193c883af",
   "metadata": {
    "collapsed": true,
    "jupyter": {
     "outputs_hidden": true,
     "source_hidden": true
    }
   },
   "outputs": [
    {
     "name": "stdout",
     "output_type": "stream",
     "text": [
      "              precision    recall  f1-score   support\n",
      "\n",
      "        债权债务      0.500     0.794     0.614        34\n",
      "        建设工程      0.421     0.381     0.400        21\n",
      "        婚姻家庭      0.278     0.357     0.312        14\n",
      "         公司法      0.000     0.000     0.000        10\n",
      "        合同纠纷      0.250     0.125     0.167         8\n",
      "        劳动纠纷      0.250     0.077     0.118        13\n",
      "\n",
      "    accuracy                          0.420       100\n",
      "   macro avg      0.283     0.289     0.268       100\n",
      "weighted avg      0.350     0.420     0.365       100\n",
      "\n"
     ]
    }
   ],
   "source": [
    "print(classification_report(\n",
    "    y_true=references,\n",
    "    y_pred=int_result,\n",
    "    digits=3,\n",
    "    target_names=target_names,\n",
    "    zero_division=0\n",
    "))"
   ]
  },
  {
   "cell_type": "markdown",
   "id": "10cc440e-194c-42b1-882e-911ea6422d0d",
   "metadata": {
    "jp-MarkdownHeadingCollapsed": true
   },
   "source": [
    "### 微调"
   ]
  },
  {
   "cell_type": "markdown",
   "id": "593118fd-4f8e-4346-b51d-7528a7dcee75",
   "metadata": {
    "jp-MarkdownHeadingCollapsed": true
   },
   "source": [
    "#### 指令数据集准备"
   ]
  },
  {
   "cell_type": "code",
   "execution_count": null,
   "id": "33a320b6-2761-45e6-97c9-253c93bbcfeb",
   "metadata": {
    "collapsed": true,
    "jupyter": {
     "outputs_hidden": true,
     "source_hidden": true
    }
   },
   "outputs": [],
   "source": [
    "instruct_data = []\n",
    "\n",
    "for idx, i in enumerate(data):\n",
    "    instruction = prompt.format(i['question'])\n",
    "    input_str = ''\n",
    "    output_str = str(references[idx])\n",
    "    instruct_data.append({\n",
    "        'instruction': instruction,\n",
    "        'input': input_str,\n",
    "        'output': output_str\n",
    "    })"
   ]
  },
  {
   "cell_type": "code",
   "execution_count": null,
   "id": "de692b3b-3eae-4632-90f0-4cee75258c71",
   "metadata": {
    "collapsed": true,
    "jupyter": {
     "outputs_hidden": true,
     "source_hidden": true
    }
   },
   "outputs": [],
   "source": [
    "len(instruct_data)"
   ]
  },
  {
   "cell_type": "code",
   "execution_count": null,
   "id": "c1f8ba54-cccb-4062-bcfd-a3b8498b6aa0",
   "metadata": {
    "collapsed": true,
    "jupyter": {
     "outputs_hidden": true,
     "source_hidden": true
    }
   },
   "outputs": [],
   "source": [
    "with open('instruction_dataset.json', 'w', encoding='utf-8') as f:\n",
    "    json.dump(instruct_data, f, indent=4, ensure_ascii=False)"
   ]
  },
  {
   "cell_type": "markdown",
   "id": "721642c4-4c55-464a-bca2-30bd82628822",
   "metadata": {},
   "source": [
    "当前保存在 `/root/LLaMA-Factory/data/legal_QA.json`"
   ]
  },
  {
   "cell_type": "markdown",
   "id": "0b34bfed-9fb6-41fc-b470-3729341e2bb8",
   "metadata": {},
   "source": [
    "修改 `/root/LLaMA-Factory/data/dataset_info.json` 文件: 添加一个指令数据集的描述，如下\n",
    "```json\n",
    "  \"legal_QA\": {\n",
    "    \"file_name\": \"legal_QA.json\"\n",
    "  },\n",
    "````\n",
    "键将作为后续配置文件的数据集名称使用"
   ]
  },
  {
   "cell_type": "markdown",
   "id": "2c257239-1a27-45d2-a632-e0035c31da36",
   "metadata": {
    "jp-MarkdownHeadingCollapsed": true
   },
   "source": [
    "#### 微调参数文件准备"
   ]
  },
  {
   "cell_type": "markdown",
   "id": "16a41b93-fd0e-4f39-8264-31f83dc3066a",
   "metadata": {},
   "source": [
    "当前保存在 `/root/LLaMA-Factory/examples/train_lora/llama3_lora_sft_qwen25.yaml`"
   ]
  },
  {
   "cell_type": "markdown",
   "id": "4ffe3bb5-cc21-4009-a8bd-e535cec5e550",
   "metadata": {},
   "source": [
    "```yaml\n",
    "### model\n",
    "model_name_or_path: /root/qwen2.5-1.5b-instruct\n",
    "trust_remote_code: true\n",
    "\n",
    "### method\n",
    "stage: sft\n",
    "do_train: true\n",
    "finetuning_type: lora\n",
    "lora_rank: 8\n",
    "lora_target: all\n",
    "deepspeed: examples/deepspeed/ds_z0_config.json  # choices: [ds_z0_config.json, ds_z2_config.json, ds_z3_config.json]\n",
    "\n",
    "### dataset\n",
    "# dataset: identity,alpaca_en_demo\n",
    "dataset: legal_QA\n",
    "template: llama3\n",
    "cutoff_len: 2048\n",
    "max_samples: 1000\n",
    "overwrite_cache: true\n",
    "preprocessing_num_workers: 16\n",
    "dataloader_num_workers: 4\n",
    "\n",
    "### output\n",
    "output_dir: /root/save/qwen2.5-1.5b-instruct/lora/sft\n",
    "logging_steps: 10\n",
    "save_steps: 500\n",
    "plot_loss: true\n",
    "overwrite_output_dir: true\n",
    "save_only_model: false\n",
    "report_to: none  # choices: [none, wandb, tensorboard, swanlab, mlflow]\n",
    "\n",
    "### train\n",
    "per_device_train_batch_size: 1\n",
    "gradient_accumulation_steps: 2\n",
    "learning_rate: 1.0e-4\n",
    "num_train_epochs: 3.0\n",
    "lr_scheduler_type: cosine\n",
    "warmup_ratio: 0.1\n",
    "bf16: true\n",
    "ddp_timeout: 180000000\n",
    "resume_from_checkpoint: null\n",
    "```"
   ]
  },
  {
   "cell_type": "markdown",
   "id": "bca8fefe-d07c-47ec-9405-e5ed8e8b563b",
   "metadata": {
    "jp-MarkdownHeadingCollapsed": true
   },
   "source": [
    "#### 训练命令"
   ]
  },
  {
   "cell_type": "markdown",
   "id": "2055e497-81ee-422f-9d05-683868f7fcb5",
   "metadata": {},
   "source": [
    "FORCE_TORCHRUN=1 llamafactory-cli train examples/train_lora/llama3_lora_sft_qwen25.yaml"
   ]
  },
  {
   "cell_type": "markdown",
   "id": "f43fab9c-6deb-40bd-a153-c0488ec76bbc",
   "metadata": {},
   "source": [
    "训练完成的权重保存在 `/root/save/qwen2.5-1.5b-instruct/lora/sft`"
   ]
  },
  {
   "cell_type": "markdown",
   "id": "f6c28a58-d2f8-4032-8696-8a6c83ea1048",
   "metadata": {
    "jp-MarkdownHeadingCollapsed": true
   },
   "source": [
    "#### 合并模型和适配器"
   ]
  },
  {
   "cell_type": "markdown",
   "id": "15bd641d-4748-4161-8767-8632acd7da57",
   "metadata": {},
   "source": [
    "配置文件: `LLaMA-Factory/examples/merge_lora/qwen2_5instruct_lora_sft.yaml`"
   ]
  },
  {
   "cell_type": "markdown",
   "id": "807c4e94-45f4-4bc9-a37a-ae894d8aace5",
   "metadata": {},
   "source": [
    "```yaml\n",
    "### Note: DO NOT use quantized model or quantization_bit when merging lora adapters\n",
    "\n",
    "### model\n",
    "model_name_or_path: /root/qwen2.5-1.5b-instruct\n",
    "adapter_name_or_path: /root/save/qwen2.5-1.5b-instruct/lora/sft\n",
    "template: qwen\n",
    "trust_remote_code: true\n",
    "\n",
    "### export\n",
    "export_dir: /root/save/qwen2.5-1.5b-instruct_legal_lora_sft\n",
    "export_size: 2\n",
    "export_device: cpu  # choices: [cpu, auto]\n",
    "export_legacy_format: false\n",
    "```"
   ]
  },
  {
   "cell_type": "markdown",
   "id": "e1d8c6da-b0ff-40e3-a8ac-87a71ac70010",
   "metadata": {},
   "source": [
    "运行命令"
   ]
  },
  {
   "cell_type": "markdown",
   "id": "2c1fcb7d-483d-4b67-95f7-82e8bd269332",
   "metadata": {},
   "source": [
    "llamafactory-cli export examples/merge_lora/qwen2_5instruct_lora_sft.yaml"
   ]
  },
  {
   "cell_type": "markdown",
   "id": "884ba3eb-20b8-4775-b18c-db99068283b5",
   "metadata": {
    "jp-MarkdownHeadingCollapsed": true
   },
   "source": [
    "#### 启动模型"
   ]
  },
  {
   "cell_type": "markdown",
   "id": "316d1d0b-c062-422e-b26a-9c59081e7ef1",
   "metadata": {
    "jp-MarkdownHeadingCollapsed": true
   },
   "source": [
    "##### llamafactory (未测试)"
   ]
  },
  {
   "cell_type": "markdown",
   "id": "95162afc-165d-4fda-9963-33ff45d53c51",
   "metadata": {},
   "source": [
    "配置文件: `LLaMA-Factory/examples/inference/qwen2_5instruct_vllm.yaml`"
   ]
  },
  {
   "cell_type": "markdown",
   "id": "c173ddae-5dba-4544-84ec-6a195172f511",
   "metadata": {},
   "source": [
    "运行命令"
   ]
  },
  {
   "cell_type": "markdown",
   "id": "dbbcafc6-e971-46d2-82c8-4fda8052aa0f",
   "metadata": {},
   "source": [
    "llamafactory-cli api examples/inference/qwen2_5instruct_vllm.yaml"
   ]
  },
  {
   "cell_type": "markdown",
   "id": "bb313023-42a9-4c24-aa4e-80d4e67a1379",
   "metadata": {
    "jp-MarkdownHeadingCollapsed": true
   },
   "source": [
    "##### xinference (本次使用)"
   ]
  },
  {
   "cell_type": "markdown",
   "id": "5e64e3db-2d42-4faa-93ad-a9c9ed8f2ba7",
   "metadata": {},
   "source": [
    "如果需要单独的模型，则需要注册-配置-启动一条龙"
   ]
  },
  {
   "cell_type": "markdown",
   "id": "32b00d9b-4381-4fa3-b143-da4699552eb2",
   "metadata": {
    "jp-MarkdownHeadingCollapsed": true
   },
   "source": [
    "#### 测试微调后的结果"
   ]
  },
  {
   "cell_type": "code",
   "execution_count": 16,
   "id": "3ae6e7aa-17f3-4c07-95ee-4c417ac3af43",
   "metadata": {
    "collapsed": true,
    "jupyter": {
     "outputs_hidden": true,
     "source_hidden": true
    }
   },
   "outputs": [],
   "source": [
    "client = Client('http://localhost:9997')\n",
    "# 微调模型\n",
    "sft_model = client.get_model(model_uid=\"qwen2.5-1.5b-instruct_legal_lora_sft\")"
   ]
  },
  {
   "cell_type": "code",
   "execution_count": 18,
   "id": "b368f6e3-bebe-4dcf-b289-65ba03148d12",
   "metadata": {
    "collapsed": true,
    "jupyter": {
     "outputs_hidden": true,
     "source_hidden": true
    }
   },
   "outputs": [],
   "source": [
    "def process_question(q):\n",
    "    completion = sft_model.chat(\n",
    "        messages=[{\n",
    "            'role': 'user',\n",
    "            'content': prompt.format(q['question'])\n",
    "        }],\n",
    "        generate_config={\"temperature\": 0.0, \"max_tokens\": 2048}\n",
    "    )\n",
    "    answer = completion[\"choices\"][0][\"message\"][\"content\"]\n",
    "    return answer\n"
   ]
  },
  {
   "cell_type": "code",
   "execution_count": 19,
   "id": "2f6d4e6c-37e1-4d6d-a053-6db437ea13a9",
   "metadata": {
    "collapsed": true,
    "jupyter": {
     "outputs_hidden": true,
     "source_hidden": true
    },
    "scrolled": true
   },
   "outputs": [
    {
     "name": "stdout",
     "output_type": "stream",
     "text": [
      "0\n",
      "0\n",
      "0\n",
      "0\n",
      "0\n",
      "0\n",
      "0\n",
      "0\n",
      "0\n",
      "0\n",
      "0\n",
      "0\n",
      "0\n",
      "0\n",
      "0\n",
      "0\n",
      "0\n",
      "0\n",
      "0\n",
      "0\n",
      "0\n",
      "0\n",
      "0\n",
      "0\n",
      "0\n",
      "0\n",
      "0\n",
      "1\n",
      "0\n",
      "0\n",
      "0\n",
      "1\n",
      "1\n",
      "0\n",
      "0\n",
      "5\n",
      "0\n",
      "1\n",
      "1\n",
      "0\n",
      "0\n",
      "0\n",
      "0\n",
      "1\n",
      "0\n",
      "1\n",
      "1\n",
      "1\n",
      "1\n",
      "2\n",
      "2\n",
      "0\n",
      "5\n",
      "2\n",
      "2\n",
      "2\n",
      "1\n",
      "1\n",
      "1\n",
      "1\n",
      "1\n",
      "0\n",
      "2\n",
      "2\n",
      "2\n",
      "3\n",
      "3\n",
      "3\n",
      "0\n",
      "2\n",
      "0\n",
      "2\n",
      "0\n",
      "0\n",
      "5\n",
      "4\n",
      "2\n",
      "2\n",
      "4\n",
      "2\n",
      "5\n",
      "1\n",
      "0\n",
      "1\n",
      "2\n",
      "4\n",
      "5\n",
      "2\n",
      "5\n",
      "5\n",
      "5\n",
      "5\n",
      "5\n",
      "5\n",
      "5\n",
      "5\n",
      "0\n",
      "5\n",
      "0\n",
      "5\n"
     ]
    }
   ],
   "source": [
    "result = []\n",
    "# 使用 ThreadPoolExecutor 来并发处理\n",
    "with concurrent.futures.ThreadPoolExecutor(max_workers=20) as executor:\n",
    "    futures = [executor.submit(process_question, q) for q in data]\n",
    "    for future in concurrent.futures.as_completed(futures):\n",
    "        answer = future.result()\n",
    "        filtered = answer.split(\"</think>\")[-1].strip()\n",
    "        result.append(filtered)\n",
    "        print(filtered)"
   ]
  },
  {
   "cell_type": "code",
   "execution_count": 20,
   "id": "037d06fc-8a3d-4b38-af50-22e3aae77f46",
   "metadata": {
    "collapsed": true,
    "jupyter": {
     "outputs_hidden": true,
     "source_hidden": true
    }
   },
   "outputs": [],
   "source": [
    "# result = [int(i) for i in result]\n",
    "int_result = []\n",
    "for i in result:\n",
    "    # 由于ds有思考过程，可能会出现输出的token过长导致被截断, 所以将产生过长答案的结果设置为 Bad answer 一类\n",
    "    # 也可以在模型配置中将ds的推理部分关闭就不用做截断了\n",
    "    try:\n",
    "        int_result.append(int(i))\n",
    "    except:\n",
    "        print('Bad answer!')\n",
    "        int_result.append(6)\n"
   ]
  },
  {
   "cell_type": "code",
   "execution_count": 21,
   "id": "87b91b12-ccd1-4c06-8eec-986962056343",
   "metadata": {
    "collapsed": true,
    "jupyter": {
     "outputs_hidden": true,
     "source_hidden": true
    }
   },
   "outputs": [],
   "source": [
    "target_names = ['债权债务', '建设工程', '婚姻家庭', '公司法', '合同纠纷', '劳动纠纷']"
   ]
  },
  {
   "cell_type": "code",
   "execution_count": 22,
   "id": "7aa86ec3-8d02-486e-a440-13737ecf51a9",
   "metadata": {
    "collapsed": true,
    "jupyter": {
     "outputs_hidden": true,
     "source_hidden": true
    }
   },
   "outputs": [
    {
     "name": "stdout",
     "output_type": "stream",
     "text": [
      "              precision    recall  f1-score   support\n",
      "\n",
      "        债权债务      0.660     0.912     0.765        34\n",
      "        建设工程      0.412     0.333     0.368        21\n",
      "        婚姻家庭      0.267     0.286     0.276        14\n",
      "         公司法      0.000     0.000     0.000        10\n",
      "        合同纠纷      0.333     0.125     0.182         8\n",
      "        劳动纠纷      0.667     0.769     0.714        13\n",
      "\n",
      "    accuracy                          0.530       100\n",
      "   macro avg      0.390     0.404     0.384       100\n",
      "weighted avg      0.461     0.530     0.484       100\n",
      "\n"
     ]
    }
   ],
   "source": [
    "print(classification_report(\n",
    "    y_true=references,\n",
    "    y_pred=int_result,\n",
    "    digits=3,\n",
    "    target_names=target_names,\n",
    "    zero_division=0\n",
    "))"
   ]
  },
  {
   "cell_type": "markdown",
   "id": "2296c5ee-9220-40f7-b911-e26ee18387c1",
   "metadata": {},
   "source": [
    "原始模型结果如下:\n",
    "1. 每个指标都有较大的提升\n",
    "2. 可以看出 accuracy 有近 10% 的提升\n",
    "3. 公司法的类别还是没有分类能力"
   ]
  },
  {
   "cell_type": "markdown",
   "id": "aad2aad3-feb6-4d6f-9178-8e282481eb9d",
   "metadata": {},
   "source": [
    "              precision    recall  f1-score   support\n",
    "\n",
    "        债权债务      0.500     0.794     0.614        34\n",
    "        建设工程      0.421     0.381     0.400        21\n",
    "        婚姻家庭      0.278     0.357     0.312        14\n",
    "         公司法      0.000     0.000     0.000        10\n",
    "        合同纠纷      0.250     0.125     0.167         8\n",
    "        劳动纠纷      0.250     0.077     0.118        13\n",
    "\n",
    "    accuracy                          0.420       100\n",
    "   macro avg      0.283     0.289     0.268       100\n",
    "weighted avg      0.350     0.420     0.365       100"
   ]
  }
 ],
 "metadata": {
  "kernelspec": {
   "display_name": "Python 3 (ipykernel)",
   "language": "python",
   "name": "python3"
  },
  "language_info": {
   "codemirror_mode": {
    "name": "ipython",
    "version": 3
   },
   "file_extension": ".py",
   "mimetype": "text/x-python",
   "name": "python",
   "nbconvert_exporter": "python",
   "pygments_lexer": "ipython3",
   "version": "3.10.8"
  }
 },
 "nbformat": 4,
 "nbformat_minor": 5
}
